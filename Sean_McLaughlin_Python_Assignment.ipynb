{
 "cells": [
  {
   "cell_type": "markdown",
   "metadata": {},
   "source": [
    "############### BCB 546X: Python Assignment Details - Sean McLaughlin #################"
   ]
  },
  {
   "cell_type": "markdown",
   "metadata": {},
   "source": [
    "** Your Mission: Complete Python code in a Jupyter Notebook ** #"
   ]
  },
  {
   "cell_type": "markdown",
   "metadata": {},
   "source": [
    "- Functions --#<br>\n",
    " 1. Document Dr. X's function with comments and with markdown text in your Jupyter notebook.<br>\n",
    " 2. Write a function that translates a string of nucleotides to amino acids based on Dr. X's pseudo-code suggestion.<br>\n",
    " 3. Write an alternative translation function.<br>\n",
    " 4. Write a function that calculates the molecular weight of each amino acid sequence.<br>\n",
    " 5. Write a function that computes the GC-content of each DNA sequence."
   ]
  },
  {
   "cell_type": "markdown",
   "metadata": {},
   "source": [
    "- In the MAIN part of the script --#<br>\n",
    " 6. Add two new columns to the bears DataFrame: (1) molecular weight and (2) GC content.<br>\n",
    " 7. Call your functions from step 3 (or step 2) and step 4 and 5 and fill in the new columns in the DataFrame.<br>\n",
    " 8. Plot a bar-chart of adult body mass per species. In your description of the graph, provide text that answers these questions: <br>\n",
    "     a. What is the largest bear species? <br>\n",
    "     b. What else is interesting about this species?<br>\n",
    " 9. Plot a graph that shows the molecular weight as a function of GC content. <br>\n",
    " 10. Write the entire DataFrame to a new CSV file that includes your new columns.<br>\n",
    " 11. BONUS: What other visualizations, functions or tasks would you do with this dataset? Add something interesting for fun. (0.5 additional points if your total score is < 15)."
   ]
  },
  {
   "cell_type": "markdown",
   "metadata": {},
   "source": [
    "- Additional Instructions (points will be deducted if these instructions are not heeded) --#<br>\n",
    " ** Do all of this in a Jupyter notebook and push it to a GitHub repository.<br>\n",
    " ** Your repository should not contain any files other than those associated with this assignment. <br>\n",
    " ** Read all comments carefully and answer the questions by including information in your Jupyter notebook.<br>\n",
    " ** Document all of your code (and Dr. X's code) very thoroughly so that it is clear what you did.<br>\n",
    " ** Be sure to cite (by providing URLs or other relevant citations) information appropriately in your documented notebook.<br>\n",
    " ** Commit and push your completed work in the Jupyter notebook to your repository.<br>\n",
    " ** Submit the URL to your git repository via Canvas by the end of the day on May 5, 2021."
   ]
  },
  {
   "cell_type": "markdown",
   "metadata": {},
   "source": [
    "- Disclaimer --#<br>\n",
    " Not all of these tasks have been covered in class and you will have to use online resources to find out how to do some of these tasks."
   ]
  },
  {
   "cell_type": "markdown",
   "metadata": {},
   "source": [
    "###################### Python Translate Script ########################"
   ]
  },
  {
   "cell_type": "markdown",
   "metadata": {},
   "source": [
    " Here's the start of our Python script. Thanks for completing it for me! - Dr. X<br>\n",
    " IMPORTANT: install BioPython so that this will work"
   ]
  },
  {
   "cell_type": "code",
   "execution_count": 42,
   "metadata": {},
   "outputs": [],
   "source": [
    "from Bio import SeqIO\n",
    "from Bio.Data import CodonTable\n",
    "import pandas as pd"
   ]
  },
  {
   "cell_type": "code",
   "execution_count": 43,
   "metadata": {},
   "outputs": [],
   "source": [
    "import seaborn as sns\n",
    "import requests\n",
    "import urllib\n",
    "from Bio import SeqIO\n",
    "from Bio.Data import CodonTable\n",
    "from Bio.Seq import Seq\n",
    "import pandas as pd\n",
    "from Bio.SeqUtils.ProtParam import ProteinAnalysis\n",
    "from Bio.SeqUtils import GC\n",
    "from Bio.SeqUtils import molecular_weight\n",
    "import numpy as np\n",
    "import matplotlib.pyplot as plt\n",
    "import argparse\n",
    "#%%%%%%%%%%%%%%%#\n",
    "### FUNCTIONS ###\n",
    "#%%%%%%%%%%%%%%%#"
   ]
  },
  {
   "cell_type": "markdown",
   "metadata": {},
   "source": [
    " 1 ##<br>\n",
    " Dr. X: this gets sequences <br>\n",
    " Please finish documenting this function with comments, or in notebook markdown text<br>\n",
    " Your descriptions of all functions should contain information about what the function does,<br>\n",
    " as well as information about the return types and arguments."
   ]
  },
  {
   "cell_type": "code",
   "execution_count": 44,
   "metadata": {},
   "outputs": [],
   "source": [
    "def get_sequences_from_file(fasta_fn):# def command is used to define get_sequences_from_file as the function name and the fasta_fn is tested\n",
    "    # The : includes the information below the line in the function\n",
    "    sequence_data_dict = {}# Creating a base directory for sequences \n",
    "    for record in SeqIO.parse(fasta_fn, \"fasta\"):# for command creates a loop for the code and reads sequences as with the SeqIO.parse function and specification of \"fasta\" product is SeqRecord objects #Source -> \"https://biopython.org/wiki/SeqIO\"\n",
    "        description = record.description.split() # Defining record.description.split()\n",
    "        species_name = description[1] + \" \" + description[2]# Adding descriptions together into species_name \n",
    "        sequence_data_dict[species_name] = record.seq # Put species name into a dictonary which is called record.seq\n",
    "    return(sequence_data_dict)"
   ]
  },
  {
   "cell_type": "markdown",
   "metadata": {},
   "source": [
    " Import Datafiles ##"
   ]
  },
  {
   "cell_type": "code",
   "execution_count": 45,
   "metadata": {},
   "outputs": [],
   "source": [
    "cytb_sequences = get_sequences_from_file(\"bears_cytb.fasta\") # Getting sequences\n",
    "bears_df = pd.read_csv('bears_mass.csv')  # Includes only data for body mass \n",
    "spec_list = list(bears_df.species) # Putting species into a list"
   ]
  },
  {
   "cell_type": "markdown",
   "metadata": {},
   "source": [
    " 2 ##<br>\n",
    "##### YOUR STRING-TRANSLATE FUNCTION ########"
   ]
  },
  {
   "cell_type": "code",
   "execution_count": 46,
   "metadata": {},
   "outputs": [],
   "source": [
    "def translate_function(sequence):\n",
    "    # function takes sequence into amino acid data and leaves stop codons\n",
    "    gencode = CodonTable.unambiguous_dna_by_name[\"Vertebrate Mitochondrial\"]  # creates codon table \n",
    "    protein = ''\n",
    "    for i in range(0,len(sequence),3): # looping through every 3rd position\n",
    "        codon = sequence[i:i+3]\n",
    "        if codon in gencode.stop_codons: # Make so doesn't translate stop codons\n",
    "            pass\n",
    "        else :\n",
    "            protein = protein + gencode.forward_table[codon]   # add amino acids \n",
    "    return protein\n",
    "## Write a function that translates sequences"
   ]
  },
  {
   "cell_type": "markdown",
   "metadata": {},
   "source": [
    " 3 ##<br>\n",
    "##### YOUR ALTERNATIVE FUNCTION ########"
   ]
  },
  {
   "cell_type": "code",
   "execution_count": 47,
   "metadata": {},
   "outputs": [],
   "source": [
    "def translate_dna(sequence):\n",
    "    #function takes sequence into amino acid data and leaves stop codons \n",
    "    dna_seq = Seq(sequence)\n",
    "    protein_seq = dna_seq.translate(table = 2, to_stop = True)\n",
    "    return protein_seq\n",
    "    #Source -> \"biopython.org/wiki/Seq\"\n",
    "## 4 ##\n",
    "####### YOUR COUNT AA ANALYSIS FUNCTION ########\n",
    "from Bio.SeqUtils.ProtParam import ProteinAnalysis"
   ]
  },
  {
   "cell_type": "code",
   "execution_count": 48,
   "metadata": {},
   "outputs": [],
   "source": [
    "def computed_molecular_weight(sequence):\n",
    "    #function calculates molecular weight\n",
    "    aa_seq = ProteinAnalysis(sequence)\n",
    "    mole_weight = aa_seq.molecular_weight()\n",
    "    return(mole_weight)\n",
    "    #Source -> \"http://biopython.org/wiki/ProtParam\""
   ]
  },
  {
   "cell_type": "markdown",
   "metadata": {},
   "source": [
    " 5 ##<br>\n",
    "##### YOUR GC CONTENT ANALYSIS FUNCTION ########"
   ]
  },
  {
   "cell_type": "code",
   "execution_count": 49,
   "metadata": {},
   "outputs": [],
   "source": [
    "def gc_content(sequence):\n",
    "    #function calculates GC-content in DNA sequence\n",
    "    nbases = sequence.count('n')+sequence.count('N') # Count 'N' or 'n'\n",
    "    gc_percent = float(sequence.count('C')+sequence.count('G'))*100.0/(len(sequence)-nbases) # remove N or n from GC\n",
    "    return gc_percent"
   ]
  },
  {
   "cell_type": "markdown",
   "metadata": {},
   "source": [
    "%%%%%%%%%%%%%#<br>\n",
    "#   MAIN   ###<br>\n",
    "%%%%%%%%%%%%%#<br>\n",
    " Import Files ##"
   ]
  },
  {
   "cell_type": "code",
   "execution_count": 50,
   "metadata": {},
   "outputs": [],
   "source": [
    "cytb_seqs = get_sequences_from_file(\"bears_cytb.fasta\") \n",
    "bears_df = pd.read_csv(\"bears_mass.csv\") # Includes only data for body mass \n",
    "species_list = list(bears_df.species)"
   ]
  },
  {
   "cell_type": "markdown",
   "metadata": {},
   "source": [
    " 6 ## "
   ]
  },
  {
   "cell_type": "code",
   "execution_count": 51,
   "metadata": {},
   "outputs": [],
   "source": [
    "bears_df = pd.read_csv(\"bears_mass.csv\") "
   ]
  },
  {
   "cell_type": "code",
   "execution_count": 52,
   "metadata": {},
   "outputs": [
    {
     "data": {
      "text/html": [
       "<div>\n",
       "<style scoped>\n",
       "    .dataframe tbody tr th:only-of-type {\n",
       "        vertical-align: middle;\n",
       "    }\n",
       "\n",
       "    .dataframe tbody tr th {\n",
       "        vertical-align: top;\n",
       "    }\n",
       "\n",
       "    .dataframe thead th {\n",
       "        text-align: right;\n",
       "    }\n",
       "</style>\n",
       "<table border=\"1\" class=\"dataframe\">\n",
       "  <thead>\n",
       "    <tr style=\"text-align: right;\">\n",
       "      <th></th>\n",
       "      <th>species</th>\n",
       "      <th>mass</th>\n",
       "      <th>molecular_weight</th>\n",
       "      <th>GC</th>\n",
       "    </tr>\n",
       "  </thead>\n",
       "  <tbody>\n",
       "    <tr>\n",
       "      <th>0</th>\n",
       "      <td>Ursus spelaeus</td>\n",
       "      <td>550.800</td>\n",
       "      <td>NaN</td>\n",
       "      <td>NaN</td>\n",
       "    </tr>\n",
       "    <tr>\n",
       "      <th>1</th>\n",
       "      <td>Ursus arctos</td>\n",
       "      <td>203.500</td>\n",
       "      <td>NaN</td>\n",
       "      <td>NaN</td>\n",
       "    </tr>\n",
       "    <tr>\n",
       "      <th>2</th>\n",
       "      <td>Ursus thibetanus</td>\n",
       "      <td>99.714</td>\n",
       "      <td>NaN</td>\n",
       "      <td>NaN</td>\n",
       "    </tr>\n",
       "    <tr>\n",
       "      <th>3</th>\n",
       "      <td>Melursus ursinus</td>\n",
       "      <td>100.030</td>\n",
       "      <td>NaN</td>\n",
       "      <td>NaN</td>\n",
       "    </tr>\n",
       "    <tr>\n",
       "      <th>4</th>\n",
       "      <td>Ursus americanus</td>\n",
       "      <td>110.560</td>\n",
       "      <td>NaN</td>\n",
       "      <td>NaN</td>\n",
       "    </tr>\n",
       "    <tr>\n",
       "      <th>5</th>\n",
       "      <td>Helarctos malayanus</td>\n",
       "      <td>47.020</td>\n",
       "      <td>NaN</td>\n",
       "      <td>NaN</td>\n",
       "    </tr>\n",
       "    <tr>\n",
       "      <th>6</th>\n",
       "      <td>Ailuropoda melanoleuca</td>\n",
       "      <td>118.200</td>\n",
       "      <td>NaN</td>\n",
       "      <td>NaN</td>\n",
       "    </tr>\n",
       "    <tr>\n",
       "      <th>7</th>\n",
       "      <td>Tremarctos ornatus</td>\n",
       "      <td>140.700</td>\n",
       "      <td>NaN</td>\n",
       "      <td>NaN</td>\n",
       "    </tr>\n",
       "    <tr>\n",
       "      <th>8</th>\n",
       "      <td>Ursus maritimus</td>\n",
       "      <td>425.100</td>\n",
       "      <td>NaN</td>\n",
       "      <td>NaN</td>\n",
       "    </tr>\n",
       "  </tbody>\n",
       "</table>\n",
       "</div>"
      ],
      "text/plain": [
       "                  species     mass molecular_weight   GC\n",
       "0          Ursus spelaeus  550.800              NaN  NaN\n",
       "1            Ursus arctos  203.500              NaN  NaN\n",
       "2        Ursus thibetanus   99.714              NaN  NaN\n",
       "3        Melursus ursinus  100.030              NaN  NaN\n",
       "4        Ursus americanus  110.560              NaN  NaN\n",
       "5     Helarctos malayanus   47.020              NaN  NaN\n",
       "6  Ailuropoda melanoleuca  118.200              NaN  NaN\n",
       "7      Tremarctos ornatus  140.700              NaN  NaN\n",
       "8         Ursus maritimus  425.100              NaN  NaN"
      ]
     },
     "execution_count": 52,
     "metadata": {},
     "output_type": "execute_result"
    }
   ],
   "source": [
    "bears_df['molecular_weight'] = 'NaN' # add molecular_weight columm and assign NaN to column \n",
    "bears_df['GC'] = 'NaN' # add GC to columm and assign NaN to column \n",
    "bears_df # To see output and structure of dataframe and if columns added correctly"
   ]
  },
  {
   "cell_type": "markdown",
   "metadata": {},
   "source": [
    " 7 ##"
   ]
  },
  {
   "cell_type": "code",
   "execution_count": 53,
   "metadata": {},
   "outputs": [
    {
     "name": "stdout",
     "output_type": "stream",
     "text": [
      "                  species     mass molecular_weight       GC\n",
      "0          Ursus spelaeus  550.800          42458.8  43.7719\n",
      "1            Ursus arctos  203.500          42414.7  43.7719\n",
      "2        Ursus thibetanus   99.714          42306.7   45.614\n",
      "3        Melursus ursinus  100.030            42552  45.1754\n",
      "4        Ursus americanus  110.560          42427.7  43.9474\n",
      "5     Helarctos malayanus   47.020          42560.9  44.2982\n",
      "6  Ailuropoda melanoleuca  118.200          42702.2  40.7895\n",
      "7      Tremarctos ornatus  140.700          42384.8   44.386\n",
      "8         Ursus maritimus  425.100          42454.8  44.2982\n"
     ]
    }
   ],
   "source": [
    "index = 0 # Sets Index at 0 value for loop\n",
    "for key,value in cytb_seqs.items():#for loop with every key, in value used to set cytb_seqs as a dictionary with cytb_seqs.items\n",
    "    aa_sequence = translate_function(str(value)) #Translate DNA nucleotides into aminio acids\n",
    "    molecular_weight_cal = computed_molecular_weight(aa_sequence) # compute molecular weight\n",
    "    GC_calculation = gc_content(str(value)) # compute gc content from the dna sequence - value\n",
    "    bears_df.at[index,'GC'] = GC_calculation\n",
    "    bears_df.at[index,'molecular_weight'] = molecular_weight_cal\n",
    "    index += 1 # #increase index by one to go to next row in loop\n",
    "print(bears_df)\n",
    "# Source\n",
    "# https://stackoverflow.com/questions/13842088/set-value-for-particular-cell-in-pandas-dataframe-using-index\n",
    "# Changing dataframe with a set_value command is depreciated, df.at is recommended instead"
   ]
  },
  {
   "cell_type": "markdown",
   "metadata": {},
   "source": [
    " 8 ##"
   ]
  },
  {
   "cell_type": "code",
   "execution_count": 54,
   "metadata": {},
   "outputs": [
    {
     "data": {
      "text/plain": [
       "Text(0.5, 1.0, 'Mass v Species')"
      ]
     },
     "execution_count": 54,
     "metadata": {},
     "output_type": "execute_result"
    },
    {
     "data": {
      "image/png": "[encoded data removed]",
      "text/plain": [
       "<Figure size 432x288 with 1 Axes>"
      ]
     },
     "metadata": {},
     "output_type": "display_data"
    }
   ],
   "source": [
    "barplot_B = sns.barplot(x = 'species', y= 'mass', data = bears_df) # Setting plot data\n",
    "barplot_B.set_xticklabels(labels = bears_df.species, rotation= 45, horizontalalignment='right')# Setting allignment and labels\n",
    "barplot_B.set_title('Mass v Species') # Plot title\n",
    "# Q1: Ursus spelaeus is largest species \n",
    "# Q2: Its common name is cave bear and has been extinct for 24,000 years # Source -> https://en.wikipedia.org/wiki/Cave_bear"
   ]
  },
  {
   "cell_type": "markdown",
   "metadata": {},
   "source": [
    " 9 ##"
   ]
  },
  {
   "cell_type": "code",
   "execution_count": 40,
   "metadata": {},
   "outputs": [
    {
     "name": "stderr",
     "output_type": "stream",
     "text": [
      "C:\\Users\\Sean McLaughlin\\anaconda3\\lib\\site-packages\\seaborn\\regression.py:580: UserWarning: The `size` parameter has been renamed to `height`; please update your code.\n",
      "  warnings.warn(msg, UserWarning)\n"
     ]
    },
    {
     "data": {
      "text/plain": [
       "<seaborn.axisgrid.FacetGrid at 0x203fa8f7eb0>"
      ]
     },
     "execution_count": 40,
     "metadata": {},
     "output_type": "execute_result"
    },
    {
     "data": {
      "image/png": "[encoded data removed]",
      "text/plain": [
       "<Figure size 806.1x432 with 1 Axes>"
      ]
     },
     "metadata": {},
     "output_type": "display_data"
    }
   ],
   "source": [
    "sns.set(font_scale=1)\n",
    "plot2 = sns.lmplot(x = 'GC', y = 'molecular_weight', data= bears_df, fit_reg=False, size=6, aspect = 1.5, scatter_kws={'alpha':1,\"s\": 150},hue='species',markers='o')\n",
    "plot2.set_axis_labels('GC content', 'Molecular Weight')"
   ]
  },
  {
   "cell_type": "markdown",
   "metadata": {},
   "source": [
    " 10 ##"
   ]
  },
  {
   "cell_type": "code",
   "execution_count": 41,
   "metadata": {},
   "outputs": [],
   "source": [
    "bears_df.to_csv('bears_mass_cytb.csv', sep=',',index=False, encoding='utf-8', )"
   ]
  },
  {
   "cell_type": "markdown",
   "metadata": {},
   "source": [
    " 11 - BONUS ##<br>\n",
    " What else can we do with this dataset in Python? <br>\n",
    "Using python we could look at various aspects of the nucleotide code such as ploting GC content with a calculated melting temperature<br>\n",
    "Ordering our sequences based on GC content with species<br>\n",
    "Running comparisons between our datasets such as mass and molecular weight<br>\n",
    "Listing out all stop codons in a sequence -> Code example at https://stackoverflow.com/questions/34009041/python-code-to-find-coding-dna-with-start-and-stop-codons"
   ]
  },
  {
   "cell_type": "markdown",
   "metadata": {},
   "source": [
    " Add functions or anything that might be interesting and fun. (optional)"
   ]
  },
  {
   "cell_type": "code",
   "execution_count": null,
   "metadata": {},
   "outputs": [],
   "source": []
  }
 ],
 "metadata": {
  "kernelspec": {
   "display_name": "Python 3",
   "language": "python",
   "name": "python3"
  },
  "language_info": {
   "codemirror_mode": {
    "name": "ipython",
    "version": 3
   },
   "file_extension": ".py",
   "mimetype": "text/x-python",
   "name": "python",
   "nbconvert_exporter": "python",
   "pygments_lexer": "ipython3",
   "version": "3.8.5"
  }
 },
 "nbformat": 4,
 "nbformat_minor": 4
}
